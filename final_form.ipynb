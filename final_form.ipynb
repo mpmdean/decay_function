{
 "cells": [
  {
   "cell_type": "markdown",
   "metadata": {},
   "source": [
    "# Final form\n",
    "I would propose using a final form in which there is an explicit convolution and where A and C are defined to be positive.\n"
   ]
  },
  {
   "cell_type": "code",
   "execution_count": 1,
   "metadata": {},
   "outputs": [],
   "source": [
    "import numpy as np\n",
    "from scipy.special import erf\n",
    "import matplotlib.pyplot as plt\n",
    "from ipywidgets import interact, interactive, FloatSlider\n",
    "from IPython.display import display\n",
    "\n",
    "%matplotlib widget"
   ]
  },
  {
   "cell_type": "code",
   "execution_count": 2,
   "metadata": {},
   "outputs": [],
   "source": [
    "%matplotlib widget"
   ]
  },
  {
   "cell_type": "markdown",
   "metadata": {},
   "source": [
    "# Evaluate original form"
   ]
  },
  {
   "cell_type": "markdown",
   "metadata": {},
   "source": [
    "In the email, the suggested form is  \n",
    "$I(t) = g(t, \\Gamma) \\ast \\{ 1 + A H(-t) - A\\exp(-t/t_{mag})  - C(1-\\exp(-t/t_{mag})) + B \\sin…)$  \\}\n",
    "\n",
    "$g(t, \\Gamma)$\n",
    "is a Gaussian with width defined in terms of full-width at half-maximum $\\Gamma$ \n",
    "\n",
    "* $A$ is the drop \n",
    "* $C$ is the amount of order that fails to recover  \n",
    "\n",
    "We think this should be the same as "
   ]
  },
  {
   "cell_type": "code",
   "execution_count": 9,
   "metadata": {},
   "outputs": [
    {
     "data": {
      "application/vnd.jupyter.widget-view+json": {
       "model_id": "131cd5659d0b415aa0d1f46957ffcf64",
       "version_major": 2,
       "version_minor": 0
      },
      "text/plain": [
       "Canvas(toolbar=Toolbar(toolitems=[('Home', 'Reset original view', 'home', 'home'), ('Back', 'Back to previous …"
      ]
     },
     "metadata": {},
     "output_type": "display_data"
    },
    {
     "data": {
      "application/vnd.jupyter.widget-view+json": {
       "model_id": "87078d49e39d495f9a521e34a7a8f7ad",
       "version_major": 2,
       "version_minor": 0
      },
      "text/plain": [
       "interactive(children=(FloatSlider(value=0.15, description='Gamma', max=10.0, min=1e-05, step=0.0001), FloatSli…"
      ]
     },
     "metadata": {},
     "output_type": "display_data"
    },
    {
     "data": {
      "text/plain": [
       "<function __main__.plot_revised_form(Gamma=0.15, A=0.5, C=0.2, t_mag=5)>"
      ]
     },
     "execution_count": 9,
     "metadata": {},
     "output_type": "execute_result"
    }
   ],
   "source": [
    "t = np.linspace(-20, 100, 50000)\n",
    "\n",
    "def exp(x):\n",
    "    y = np.exp(x)\n",
    "    y[y>1] = 1\n",
    "    return y\n",
    "\n",
    "\n",
    "def convolution_form(t, Gamma, A, C, t_mag):\n",
    "    dt = np.mean(np.abs(np.diff(t)))\n",
    "    x = np.arange(-Gamma*5, Gamma*5+dt, dt)\n",
    "    t_extended = np.arange(t.min() - 5*Gamma, t.max() + 5*Gamma, dt) \n",
    "    kernel = np.exp(-(2*np.sqrt(np.log(2))*x/Gamma)**2)\n",
    "    kernel = kernel / np.sum(kernel)\n",
    "    y = (1 + A*np.heaviside(-t_extended, 1) - A*exp(-t_extended/t_mag)\n",
    "         - C*(1-exp(-t_extended/t_mag))\n",
    "        )\n",
    "    I_extended = np.convolve(y, kernel, mode='same')\n",
    "    return np.interp(t, t_extended, I_extended)\n",
    "\n",
    "\n",
    "def plot_revised_form(Gamma=.15, A=0.5, C=0.2, t_mag=5):\n",
    "    I = convolution_form(t, Gamma=Gamma, A=A, C=C, t_mag=t_mag)\n",
    "    art.set_ydata(I)\n",
    "\n",
    "fig, ax = plt.subplots()\n",
    "I = convolution_form(t, Gamma=.01, A=-.8, C=.5, t_mag=5)\n",
    "art,  = ax.plot(t, I)\n",
    "ax.set_xlabel('t')\n",
    "ax.set_ylabel('I')\n",
    "ax.set_ylim((-4, 10))\n",
    "\n",
    "interact(plot_revised_form,\n",
    "         Gamma=FloatSlider(value=0.15, min=0.00001, max=10, step=0.0001),\n",
    "         A=FloatSlider(value=.9, min=-1, max=1),\n",
    "         C=FloatSlider(value=.2, min=-1, max=1),\n",
    "         t_mag=FloatSlider(value=.5, min=0.0001, max=5, step=0.0001),\n",
    "        )"
   ]
  },
  {
   "cell_type": "code",
   "execution_count": null,
   "metadata": {},
   "outputs": [],
   "source": []
  }
 ],
 "metadata": {
  "kernelspec": {
   "display_name": "Python 3",
   "language": "python",
   "name": "python3"
  },
  "language_info": {
   "codemirror_mode": {
    "name": "ipython",
    "version": 3
   },
   "file_extension": ".py",
   "mimetype": "text/x-python",
   "name": "python",
   "nbconvert_exporter": "python",
   "pygments_lexer": "ipython3",
   "version": "3.7.3"
  }
 },
 "nbformat": 4,
 "nbformat_minor": 4
}
