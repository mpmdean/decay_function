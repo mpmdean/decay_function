{
 "cells": [
  {
   "cell_type": "markdown",
   "metadata": {},
   "source": [
    "# Final form\n",
    "I would propose using a final form in which there is an explicit convolution and where A and C are defined to be positive. It also does not make much sense to add an arbitary phase to the osciallatory component. More care is also needed to convey that the osciallatory compounent disappears *continuouslsy* at $t<0$.\n"
   ]
  },
  {
   "cell_type": "code",
   "execution_count": 1,
   "metadata": {},
   "outputs": [],
   "source": [
    "import numpy as np\n",
    "from scipy.special import erf\n",
    "import matplotlib.pyplot as plt\n",
    "from ipywidgets import interact, interactive, FloatSlider\n",
    "from IPython.display import display\n",
    "\n",
    "%matplotlib widget"
   ]
  },
  {
   "cell_type": "code",
   "execution_count": 2,
   "metadata": {},
   "outputs": [],
   "source": [
    "%matplotlib widget"
   ]
  },
  {
   "cell_type": "markdown",
   "metadata": {},
   "source": [
    "We suggest   \n",
    "$I_\\text{decay}(t\\geq 0) = 1 - A\\exp(-t/t_{mag}) - C(1-\\exp(-t/t_{mag})) + D \\exp(-t/t_{wave})  \\sin(\\omega t)$  \n",
    "$I_\\text{decay}(t<0) = 1$  \n",
    "\n",
    "* $t_{mag}$ is the magnetic recovery timescale\n",
    "* $A$ is the drop. \n",
    "* $C$ is the amount of order that fails to recover \n",
    "* The osciallatory component is constructed to be continuous. Either a $\\sin$ or $1-\\cos$ form is continuous. An arbitary phase just creates a discontinuity that is (confusingly!) absorbed into $D$. Note that $sin(\\theta +\\pi) = -sin(\\theta)$. I hope that we don't need to put a phase, as this makes the form a bit confusing. Can we try to fit without a phase and \n",
    "* $\\omega$ is the frequency of the osciallatory component\n",
    "* $D$ is the magnitude of the osciallatory component\n",
    "* $t_{wave}$ is the decay rate of the wave.\n",
    "\n",
    "The experimentally measured form is  \n",
    "$I(t) = g(t, \\Gamma) \\ast I_\\text{decay}(t)$\n",
    "* $g(t, \\Gamma)$ is a Gaussian with width defined in terms of full-width at half-maximum $\\Gamma$\n",
    "* $\\ast$ denotes a convolution, which we will do numerically\n"
   ]
  },
  {
   "cell_type": "code",
   "execution_count": 3,
   "metadata": {},
   "outputs": [
    {
     "data": {
      "application/vnd.jupyter.widget-view+json": {
       "model_id": "12ee6e2b6d2a48308cba4e4cb9cf9365",
       "version_major": 2,
       "version_minor": 0
      },
      "text/plain": [
       "Canvas(toolbar=Toolbar(toolitems=[('Home', 'Reset original view', 'home', 'home'), ('Back', 'Back to previous …"
      ]
     },
     "metadata": {},
     "output_type": "display_data"
    },
    {
     "data": {
      "application/vnd.jupyter.widget-view+json": {
       "model_id": "9be0dbc41bb14af198c1e1cff291fc1c",
       "version_major": 2,
       "version_minor": 0
      },
      "text/plain": [
       "interactive(children=(FloatSlider(value=0.15, description='Gamma', max=10.0, min=1e-05, step=0.0001), FloatSli…"
      ]
     },
     "metadata": {},
     "output_type": "display_data"
    },
    {
     "data": {
      "text/plain": [
       "<function __main__.plot_revised_form(Gamma=0.1, A=0.9, C=0.2, t_mag=3, D=0.5, omega=0.05, t_wave=50)>"
      ]
     },
     "execution_count": 3,
     "metadata": {},
     "output_type": "execute_result"
    }
   ],
   "source": [
    "t = np.linspace(-20, 300, 50000)\n",
    "\n",
    "def decay(t, Gamma=.1, A=.9, C=.2, t_mag=3, D=.5, omega=1/50, t_wave=50):\n",
    "    \"\"\"Decay form \n",
    "    \n",
    "    parameters\n",
    "    ----------\n",
    "    t : array\n",
    "        time delay. This must be monotonic\n",
    "        otherwise there will be problems with the convoution. \n",
    "    Gamma: float\n",
    "        time resolution FWHM\n",
    "    A : float\n",
    "        Drop in the Gamma \\rightarrow 0 limit \n",
    "    C : float\n",
    "        Amount of the order that fails to recover\n",
    "    t_mag : float\n",
    "        recovery timescale \n",
    "    D : float\n",
    "        magnitude of the osciallatory component osciallation\n",
    "    omega : float\n",
    "        oscillation frequency\n",
    "    t_mag : float\n",
    "        osciallation decay timescale\n",
    "    \"\"\"\n",
    "    dt = np.mean(np.abs(np.diff(t)))\n",
    "    x = np.arange(-Gamma*5, Gamma*5+dt, dt)\n",
    "    t_extended = np.arange(t.min() - 5*Gamma, t.max() + 5*Gamma, dt) \n",
    "    kernel = np.exp(-(2*np.sqrt(np.log(2))*x/Gamma)**2)\n",
    "    kernel = kernel / np.sum(kernel)\n",
    "    y = (1 - A*np.exp(-t_extended/t_mag)\n",
    "         - C*(1-np.exp(-t_extended/t_mag))\n",
    "         + D*np.exp(-t_extended/t_wave) * np.sin(omega*t_extended)\n",
    "        )\n",
    "    y[t_extended<0] = 1\n",
    "    I_extended = np.convolve(y, kernel, mode='same')\n",
    "    return np.interp(t, t_extended, I_extended)\n",
    "\n",
    "\n",
    "def plot_revised_form(Gamma=.1, A=.9, C=.2, t_mag=3, D=.5, omega=1/20, t_wave=50):\n",
    "    I = decay(t, Gamma=Gamma, A=A, C=C, t_mag=t_mag, D=D, omega=omega, t_wave=t_wave)\n",
    "    art.set_ydata(I)\n",
    "\n",
    "fig, ax = plt.subplots()\n",
    "I = decay(t)\n",
    "art,  = ax.plot(t, I)\n",
    "ax.set_xlabel('t')\n",
    "ax.set_ylabel('I')\n",
    "ax.set_ylim((-4, 10))\n",
    "\n",
    "interact(plot_revised_form,\n",
    "         Gamma=FloatSlider(value=0.15, min=0.00001, max=10, step=0.0001),\n",
    "         A=FloatSlider(value=.9, min=-1, max=1),\n",
    "         C=FloatSlider(value=.2, min=-1, max=1),\n",
    "         D=FloatSlider(value=.2, min=0, max=1),\n",
    "         omega=FloatSlider(value=1/20, min=0, max=.1, step=0.0001),\n",
    "         t_mag=FloatSlider(value=5, min=0.0001, max=5, step=0.0001),\n",
    "         t_wave=FloatSlider(value=50, min=0.0001, max=300, step=1),\n",
    "        )"
   ]
  },
  {
   "cell_type": "markdown",
   "metadata": {},
   "source": [
    "For clarify you can look a the osciallatory component"
   ]
  }
 ],
 "metadata": {
  "kernelspec": {
   "display_name": "Python 3",
   "language": "python",
   "name": "python3"
  },
  "language_info": {
   "codemirror_mode": {
    "name": "ipython",
    "version": 3
   },
   "file_extension": ".py",
   "mimetype": "text/x-python",
   "name": "python",
   "nbconvert_exporter": "python",
   "pygments_lexer": "ipython3",
   "version": "3.7.3"
  }
 },
 "nbformat": 4,
 "nbformat_minor": 4
}
