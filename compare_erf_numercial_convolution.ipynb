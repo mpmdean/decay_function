{
 "cells": [
  {
   "cell_type": "markdown",
   "metadata": {},
   "source": [
    "# Check form of function\n",
    "Here we compare the form with the error function with a numerical convolution.\n",
    "\n",
    "Although there is reasonable agreement for good time resolution, the proposed form with the error function breaks down when gamma gets large. "
   ]
  },
  {
   "cell_type": "code",
   "execution_count": 1,
   "metadata": {},
   "outputs": [],
   "source": [
    "import numpy as np\n",
    "from scipy.special import erf\n",
    "import matplotlib.pyplot as plt\n",
    "from ipywidgets import interact, interactive, FloatSlider\n",
    "from IPython.display import display\n",
    "\n",
    "%matplotlib widget"
   ]
  },
  {
   "cell_type": "code",
   "execution_count": 2,
   "metadata": {},
   "outputs": [],
   "source": [
    "%matplotlib widget"
   ]
  },
  {
   "cell_type": "markdown",
   "metadata": {},
   "source": [
    "# Evaluate original form"
   ]
  },
  {
   "cell_type": "markdown",
   "metadata": {},
   "source": [
    "In the email, the suggested form is  \n",
    "$I(t) = I_0/2 + \\frac{1}{2} (1+\\text{erf}(t))(A*\\exp(-t/t_{mag})+C(1-\\exp(-t/t_{mag})) + B*\\sin…)$\n",
    "\n",
    "I think $I_0$ is actually more appropriate than $I_0/2$.\n",
    "\n",
    "The functional behavior is clear if you take the $t_{erf} << t_{mag}$ limit.  \n",
    "\n",
    "* $-A$ is the drop \n",
    "* $-C$ is the amount of order that fails to recover  \n",
    "\n",
    "We think this should be the same as "
   ]
  },
  {
   "cell_type": "code",
   "execution_count": 3,
   "metadata": {},
   "outputs": [
    {
     "data": {
      "application/vnd.jupyter.widget-view+json": {
       "model_id": "435268a0f5894be78b58995675ced05d",
       "version_major": 2,
       "version_minor": 0
      },
      "text/plain": [
       "Canvas(toolbar=Toolbar(toolitems=[('Home', 'Reset original view', 'home', 'home'), ('Back', 'Back to previous …"
      ]
     },
     "metadata": {},
     "output_type": "display_data"
    },
    {
     "data": {
      "application/vnd.jupyter.widget-view+json": {
       "model_id": "9f1393407711475f83780736a3b59926",
       "version_major": 2,
       "version_minor": 0
      },
      "text/plain": [
       "interactive(children=(FloatSlider(value=1.0, description='I_0', max=3.0, min=-1.0), FloatSlider(value=0.15, de…"
      ]
     },
     "metadata": {},
     "output_type": "display_data"
    },
    {
     "data": {
      "text/plain": [
       "<function __main__.plot_revised_form(I_0=1.0, Gamma=0.15, A=0.5, C=0.2, t_mag=5)>"
      ]
     },
     "execution_count": 3,
     "metadata": {},
     "output_type": "execute_result"
    }
   ],
   "source": [
    "t = np.linspace(-20, 100, 50000)\n",
    "\n",
    "def exp(x):\n",
    "    y = np.exp(x)\n",
    "    y[y>1] = 1\n",
    "    return y\n",
    "\n",
    "def revised_form(t, I_0, Gamma, A, C, t_mag):\n",
    "    I = I_0 + 0.5*(1+erf(2*t*np.log(2)/Gamma))*(A*exp(-t/t_mag)+C*(1-exp(-t/t_mag)))\n",
    "    return I\n",
    "\n",
    "\n",
    "def convolution_form(t, Gamma, A, C, t_mag):\n",
    "    dt = np.mean(np.abs(np.diff(t)))\n",
    "    x = np.arange(-Gamma*5, Gamma*5+dt, dt)\n",
    "    t_extended = np.arange(t.min() - 5*Gamma, t.max() + 5*Gamma, dt) \n",
    "    kernel = np.exp(-(2*np.sqrt(np.log(2))*x/Gamma)**2)\n",
    "    kernel = kernel / np.sum(kernel)\n",
    "    y = (1 - A*np.heaviside(-t_extended, 1) + A*exp(-t_extended/t_mag)\n",
    "         + C*(1-exp(-t_extended/t_mag))\n",
    "        )\n",
    "    I_extended = np.convolve(y, kernel, mode='same')\n",
    "    return np.interp(t, t_extended, I_extended)\n",
    "\n",
    "\n",
    "def plot_revised_form(I_0=1., Gamma=.15, A=0.5, C=0.2, t_mag=5):\n",
    "    I = revised_form(t, I_0=I_0, Gamma=Gamma, A=A, C=C, t_mag=t_mag)\n",
    "    art1.set_ydata(I)\n",
    "    I = convolution_form(t, Gamma=Gamma, A=A, C=C, t_mag=t_mag)\n",
    "    art2.set_ydata(I)\n",
    "    fig.canvas.draw()\n",
    "\n",
    "fig, ax = plt.subplots()\n",
    "I = revised_form(t, I_0=1, Gamma=.01, A=-.8, C=.5, t_mag=5)\n",
    "art1,  = ax.plot(t, I, label='error function form')\n",
    "I = convolution_form(t, Gamma=.01, A=-.8, C=.5, t_mag=5)\n",
    "art2,  = ax.plot(t, I, label='convolution function form')\n",
    "ax.set_xlabel('t')\n",
    "ax.set_ylabel('I')\n",
    "ax.set_ylim((-4, 10))\n",
    "ax.legend()\n",
    "\n",
    "def update(I=1):\n",
    "    art.set_ydata(t*0 + I)\n",
    "    fig.canvas.draw()\n",
    "\n",
    "interact(plot_revised_form,\n",
    "         I0=FloatSlider(value=1, min=0, max=2),\n",
    "         Gamma=FloatSlider(value=0.15, min=0.00001, max=10, step=0.0001),\n",
    "         A=FloatSlider(value=-.9, min=-5, max=1),\n",
    "         C=FloatSlider(value=-.2, min=-5, max=1),\n",
    "         t_mag=FloatSlider(value=.5, min=0.0001, max=5, step=0.0001),\n",
    "        )"
   ]
  },
  {
   "cell_type": "code",
   "execution_count": null,
   "metadata": {},
   "outputs": [],
   "source": []
  }
 ],
 "metadata": {
  "kernelspec": {
   "display_name": "Python 3",
   "language": "python",
   "name": "python3"
  },
  "language_info": {
   "codemirror_mode": {
    "name": "ipython",
    "version": 3
   },
   "file_extension": ".py",
   "mimetype": "text/x-python",
   "name": "python",
   "nbconvert_exporter": "python",
   "pygments_lexer": "ipython3",
   "version": "3.7.3"
  }
 },
 "nbformat": 4,
 "nbformat_minor": 4
}
