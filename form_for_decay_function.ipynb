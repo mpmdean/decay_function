{
 "cells": [
  {
   "cell_type": "markdown",
   "metadata": {},
   "source": [
    "# Comment from Simon\n",
    "The other major concern I have is equation 1. I guess that this is only valid for t>0 ? Otherwise it explodes at negative delays. If this is the case, I don’t really see the point/reason of fitting “half” an error function. I would say an error function is something you fit when the dynamics are resolution limited (this is what we say in the text). What does this mean? It means that we should see some signal for times t<0 because of our finite blurring on the time axis. If we restrict the fit to only times >0 we are not fitting the error function correctly.\n"
   ]
  },
  {
   "cell_type": "markdown",
   "metadata": {},
   "source": [
    "# Response\n",
    "It's true that the exponential functions needs to be modified not to exceed one for $t<0$, but this is true of the the suggested revised form as well. If the expoentials are suitably set, the fit can be applied over the whole function -- which we agree is desirable and which we do already. \n",
    "\n",
    "Our view is the decay is time-resolution-limited and I think time zero was indeed not set so well in earlier drafts. We have now corrected time zero in the draft. We also corrected a bad typo on our part where we had a missing minus sign in the erf function.  \n",
    "\n",
    "We have looked at the proposed new form you sent below. I think there might be some typos? We tried a couple of modifications to try to get at what you had in mind, but we didn't have much luck. Please can you check and advise us. \n",
    "\n",
    "Overall, now that we've corrected time zero, and the typo in the equation, I can't see any serious issues with what we have and would be inclinded to keep it."
   ]
  },
  {
   "cell_type": "code",
   "execution_count": 1,
   "metadata": {},
   "outputs": [],
   "source": [
    "import numpy as np\n",
    "from scipy.special import erf\n",
    "import matplotlib.pyplot as plt\n",
    "from ipywidgets import interact, interactive, FloatSlider\n",
    "from IPython.display import display\n",
    "\n",
    "%matplotlib widget"
   ]
  },
  {
   "cell_type": "code",
   "execution_count": 2,
   "metadata": {},
   "outputs": [],
   "source": [
    "%matplotlib widget"
   ]
  },
  {
   "cell_type": "markdown",
   "metadata": {},
   "source": [
    "# Evaluate original form"
   ]
  },
  {
   "cell_type": "markdown",
   "metadata": {},
   "source": [
    "In the email, the suggested form is  \n",
    "$I(t) = I_0 + \\frac{1}{2} (1+\\text{erf}(t))(A*\\exp(-t/t_{mag})+C(1-\\exp(-t/t_{mag})) + B*\\sin…)$\n",
    "\n",
    "Below this is evaluated having relabeled the two $t_{mag}$ terms to $t_{mag1}$ and $t_{mag2}$. The functional form is an increasing (not decreasing) blurred step, which is not what we want. We've left out the $\\sin$ term for simplicity. "
   ]
  },
  {
   "cell_type": "code",
   "execution_count": 3,
   "metadata": {},
   "outputs": [
    {
     "data": {
      "application/vnd.jupyter.widget-view+json": {
       "model_id": "5d867744f8f2450382fa9a156652ebb5",
       "version_major": 2,
       "version_minor": 0
      },
      "text/plain": [
       "Canvas(toolbar=Toolbar(toolitems=[('Home', 'Reset original view', 'home', 'home'), ('Back', 'Back to previous …"
      ]
     },
     "metadata": {},
     "output_type": "display_data"
    },
    {
     "data": {
      "application/vnd.jupyter.widget-view+json": {
       "model_id": "fdff0cf075fa400399f32e0e6cb8ceef",
       "version_major": 2,
       "version_minor": 0
      },
      "text/plain": [
       "interactive(children=(FloatSlider(value=1.0, description='I_0', max=3.0, min=-1.0), FloatSlider(value=0.15, de…"
      ]
     },
     "metadata": {},
     "output_type": "display_data"
    },
    {
     "data": {
      "text/plain": [
       "<function __main__.plot_revised_form(I_0=1.0, t_erf=0.15, A=0.5, C=0.2, t_mag1=0.5, t_mag2=5)>"
      ]
     },
     "execution_count": 3,
     "metadata": {},
     "output_type": "execute_result"
    }
   ],
   "source": [
    "t = np.linspace(-3, 100, 1000)\n",
    "\n",
    "def exp(x):\n",
    "    y = np.exp(x)\n",
    "    y[y>1] = 1\n",
    "    return y\n",
    "\n",
    "def revised_form(t, I_0, t_erf, A, C, t_mag1, t_mag2):\n",
    "    I = I_0 + 0.5*(1+erf(t/t_erf))*(A*exp(-t/t_mag1)+C*(1-exp(-t/t_mag2)))\n",
    "    \n",
    "    return I\n",
    "\n",
    "def plot_revised_form(I_0=1., t_erf=.15, A=0.5, C=0.2, t_mag1=0.5, t_mag2=5):\n",
    "    I = revised_form(t, I_0=I_0, t_erf=t_erf, A=A, C=C, t_mag1=t_mag1, t_mag2=t_mag2)\n",
    "    art.set_ydata(I)\n",
    "    fig.canvas.draw()\n",
    "\n",
    "fig, ax = plt.subplots()\n",
    "I = revised_form(t, I_0=1, t_erf=.15, A=.2, C=.2, t_mag1=.5, t_mag2=5)\n",
    "art,  = ax.plot(t, I)\n",
    "ax.set_xlabel('t')\n",
    "ax.set_ylabel('I')\n",
    "ax.set_ylim((-4, 10))\n",
    "\n",
    "def update(I=1):\n",
    "    art.set_ydata(t*0 + I)\n",
    "    fig.canvas.draw()\n",
    "\n",
    "#interact(plot_revised_form)\n",
    "interact(plot_revised_form,\n",
    "         I0=FloatSlider(value=1, min=0, max=2),\n",
    "         t_erf=FloatSlider(value=0.15, min=0, max=1),\n",
    "         A=FloatSlider(value=.2, min=0, max=1),\n",
    "         C=FloatSlider(value=.2, min=0, max=1),\n",
    "         t_mag1=FloatSlider(value=.5, min=0, max=5),\n",
    "         t_mag2=FloatSlider(value=5, min=0, max=50)\n",
    "        )"
   ]
  },
  {
   "cell_type": "markdown",
   "metadata": {},
   "source": [
    "The wrong sign in the erf is most likely propogating from an error we made in an earlier draft. Sorry about this. Changing erf(t) to erf(-t) cannot be done in the proposed form as it multiplies the $C(1-exp(-t/t_{mag})$) term in the original bracket placing. We therefore think you likely meant to put the bracket such that the error functional only multiplies the $A$ term as:\n",
    "\n",
    "$I(t) = I_0 + \\frac{1}{2} (1+\\text{erf}(-t))(A*\\exp(-t/t_{mag}))+C(1-\\exp(-t/t_{mag}) + B*\\sin…)$\n",
    "\n",
    "Below we impliment this."
   ]
  },
  {
   "cell_type": "code",
   "execution_count": 4,
   "metadata": {},
   "outputs": [
    {
     "data": {
      "application/vnd.jupyter.widget-view+json": {
       "model_id": "8c06a383174b42a990f08fbf7c1ac9a7",
       "version_major": 2,
       "version_minor": 0
      },
      "text/plain": [
       "Canvas(toolbar=Toolbar(toolitems=[('Home', 'Reset original view', 'home', 'home'), ('Back', 'Back to previous …"
      ]
     },
     "metadata": {},
     "output_type": "display_data"
    },
    {
     "data": {
      "application/vnd.jupyter.widget-view+json": {
       "model_id": "2a1f6ab799cd4c8b871010be3ad23bd7",
       "version_major": 2,
       "version_minor": 0
      },
      "text/plain": [
       "interactive(children=(FloatSlider(value=1.0, description='I_0', max=3.0, min=-1.0), FloatSlider(value=0.15, de…"
      ]
     },
     "metadata": {},
     "output_type": "display_data"
    },
    {
     "data": {
      "text/plain": [
       "<function __main__.plot_revised_form(I_0=1.0, t_erf=0.15, A=0.5, C=0.2, t_mag1=0.5, t_mag2=5)>"
      ]
     },
     "execution_count": 4,
     "metadata": {},
     "output_type": "execute_result"
    }
   ],
   "source": [
    "t = np.linspace(-3, 100, 1000)\n",
    "\n",
    "def exp(x):\n",
    "    y = np.exp(x)\n",
    "    y[y>1] = 1\n",
    "    return y\n",
    "\n",
    "def revised_form(t, I_0, t_erf, A, C, t_mag1, t_mag2):\n",
    "    I = I_0 + 0.5*(1+erf(-t/t_erf))*(A*exp(-t/t_mag1))+C*(1-exp(-t/t_mag2))\n",
    "    \n",
    "    return I\n",
    "\n",
    "def plot_revised_form(I_0=1., t_erf=.15, A=0.5, C=0.2, t_mag1=0.5, t_mag2=5):\n",
    "    I = revised_form(t, I_0=I_0, t_erf=t_erf, A=A, C=C, t_mag1=t_mag1, t_mag2=t_mag2)\n",
    "    art.set_ydata(I)\n",
    "    fig.canvas.draw()\n",
    "\n",
    "fig, ax = plt.subplots()\n",
    "I = revised_form(t, I_0=1, t_erf=.15, A=.2, C=.2, t_mag1=.5, t_mag2=5)\n",
    "art,  = ax.plot(t, I)\n",
    "ax.set_xlabel('t')\n",
    "ax.set_ylabel('I')\n",
    "ax.set_ylim((-4, 10))\n",
    "\n",
    "def update(I=1):\n",
    "    art.set_ydata(t*0 + I)\n",
    "    fig.canvas.draw()\n",
    "\n",
    "#interact(plot_revised_form)\n",
    "interact(plot_revised_form,\n",
    "         I0=FloatSlider(value=1, min=0, max=2),\n",
    "         t_erf=FloatSlider(value=0.15, min=0, max=1),\n",
    "         A=FloatSlider(value=.2, min=0, max=1),\n",
    "         C=FloatSlider(value=.2, min=0, max=1),\n",
    "         t_mag1=FloatSlider(value=.5, min=0, max=5),\n",
    "         t_mag2=FloatSlider(value=5, min=0, max=50)\n",
    "        )"
   ]
  },
  {
   "cell_type": "markdown",
   "metadata": {},
   "source": [
    "This has an appropriate shape, but there is an issue. The error function derives from a convolution of a Gaussian $\\exp(-t^2)$ form. When multiplied with the $\\exp(-t)$ type decay the erf term will always limit the maximum width of the drop even if $t_{mag1}$ is made large. This can be seem by playing with the parameteres above. "
   ]
  },
  {
   "cell_type": "code",
   "execution_count": null,
   "metadata": {},
   "outputs": [],
   "source": []
  }
 ],
 "metadata": {
  "kernelspec": {
   "display_name": "Python 3",
   "language": "python",
   "name": "python3"
  },
  "language_info": {
   "codemirror_mode": {
    "name": "ipython",
    "version": 3
   },
   "file_extension": ".py",
   "mimetype": "text/x-python",
   "name": "python",
   "nbconvert_exporter": "python",
   "pygments_lexer": "ipython3",
   "version": "3.7.3"
  }
 },
 "nbformat": 4,
 "nbformat_minor": 4
}
